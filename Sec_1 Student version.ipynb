{
 "cells": [
  {
   "cell_type": "markdown",
   "metadata": {},
   "source": [
    "**Course:** Online Data Science Bootcamp<br> \n",
    "**Mod:** 1 <br> \n",
    "**Section:** 1 <br>\n",
    "**Topic:** What is Data science <br> \n",
    "**Amount of time:** 1 hour <br> \n",
    "**Author:** Jeff Herman"
   ]
  },
  {
   "cell_type": "markdown",
   "metadata": {},
   "source": [
    "## Learning Goals\n",
    "\n",
    "\n",
    "* Explain the classes of problems that data science can be used to solve\n",
    "* Navigate a Jupyter notebook\n",
    "* Activate a conda environment\n",
    "* Show work flow of the class\n",
    "* Students should feel comfortable completing lessons through Learn.co"
   ]
  },
  {
   "cell_type": "markdown",
   "metadata": {},
   "source": [
    "# Welcome future data scientists! (5 minutes)"
   ]
  },
  {
   "cell_type": "markdown",
   "metadata": {},
   "source": [
    "### Who am I? Who are you? Tell everyone: \n",
    "- Where you're from\n",
    "- What you were doing for money before/ during Flatiron\n",
    "- Which Jeff Goldblum role best describes how you feel about Data Science\n"
   ]
  },
  {
   "cell_type": "markdown",
   "metadata": {},
   "source": [
    "## Problem Scenario (5 minutes)\n",
    "\n",
    "You are part of a team of contractors working ETL at a large train-related private/public partnership company. A VP knows you have a background in data science and comes up to you and says \"I want us to start using predictive analytics\". What do you say?"
   ]
  },
  {
   "cell_type": "markdown",
   "metadata": {},
   "source": [
    "## Problems Data Science Can Solve (10 minutes)"
   ]
  },
  {
   "cell_type": "markdown",
   "metadata": {},
   "source": [
    "### Think Pair Share\n",
    "\n",
    "#### In small groups, brainstorm or look up problems that Data Science can solve. What traits do these problems have in common? (5 minutes)\n",
    "\n",
    "#### When you come back to the common room, have a spokesperson share one of your problems for Data Science to solve. (5 minutes)"
   ]
  },
  {
   "cell_type": "markdown",
   "metadata": {},
   "source": [
    "## Work flow for completing lessons (30 minutes)"
   ]
  },
  {
   "cell_type": "markdown",
   "metadata": {},
   "source": [
    "\n",
    "1. Forking and cloning lessons from learn.co: Why are forking and cloning necessary?\n",
    "2. How to start a jupyter notebook\n",
    "3. How to navigate to the learn-env kernel on Jupyter Notebooks\n",
    "4. How to navigate in a Jupyter Notebook \n",
    "    1. Difference between command and edit mode\n",
    "    2. Common shortcuts \n",
    "    3. How to add cells\n",
    "    4. How to add markdown cells (go very briefly into Markdown)\n",
    "    5. How to run a cell \n",
    "5. What to do after you have completed a lab (pushing back up to Github)\n"
   ]
  },
  {
   "cell_type": "markdown",
   "metadata": {},
   "source": [
    "## Coding Challenge\n"
   ]
  },
  {
   "cell_type": "markdown",
   "metadata": {},
   "source": [
    "### Modulo Operator\n",
    "(2 Minutes)\n",
    "```\n",
    "Example 1:  6%2 evaluates to 0 because there's no remainder if 6 is divided by 2 ( 3 times ).\n",
    "\n",
    "Example 2: 7%2 evaluates to 1 because there's a remainder of 1 when 7 is divided by 2 ( 3 times ).\n",
    "```"
   ]
  },
  {
   "cell_type": "code",
   "execution_count": null,
   "metadata": {},
   "outputs": [],
   "source": [
    "6 % 2"
   ]
  },
  {
   "cell_type": "code",
   "execution_count": null,
   "metadata": {},
   "outputs": [],
   "source": [
    "7 % 2 "
   ]
  },
  {
   "cell_type": "markdown",
   "metadata": {},
   "source": [
    "Check out this FizzBuzz Problem and solve it in small groups.\n",
    "```\n",
    "Write a program that prints the numbers from 1 to 20. But for multiples of three print “Fizz” instead of the number and for the multiples of five print “Buzz”. For numbers which are multiples of both three and five print “FizzBuzz”.\n",
    "```"
   ]
  },
  {
   "cell_type": "code",
   "execution_count": null,
   "metadata": {},
   "outputs": [],
   "source": []
  },
  {
   "cell_type": "markdown",
   "metadata": {},
   "source": [
    "Practice using Python Operators to solve this problem. Select the correct answer in the poll (5 minutes)\n",
    "![Practice Problem](img/Pemdas.png)\n",
    "a) 4\n",
    "b) 5\n",
    "c) 6\n",
    "d) 7\n",
    "\n",
    "Order of operation - PEMDAS\n",
    "\t1. Parentheses ( )\n",
    "\t2. Exponent **\n",
    "\t3. Multiplication *\n",
    "\t4. Division / // %\n",
    "\t5. Addition +\n",
    "\t6. Subtraction -\n",
    "    \n"
   ]
  },
  {
   "cell_type": "code",
   "execution_count": null,
   "metadata": {},
   "outputs": [],
   "source": []
  },
  {
   "cell_type": "code",
   "execution_count": null,
   "metadata": {},
   "outputs": [],
   "source": []
  }
 ],
 "metadata": {
  "kernelspec": {
   "display_name": "Python 3",
   "language": "python",
   "name": "python3"
  },
  "language_info": {
   "codemirror_mode": {
    "name": "ipython",
    "version": 3
   },
   "file_extension": ".py",
   "mimetype": "text/x-python",
   "name": "python",
   "nbconvert_exporter": "python",
   "pygments_lexer": "ipython3",
   "version": "3.7.3"
  }
 },
 "nbformat": 4,
 "nbformat_minor": 2
}
