{
 "cells": [
  {
   "cell_type": "markdown",
   "metadata": {},
   "source": [
    "**Course:** Online Data Science Bootcamp<br> \n",
    "**Mod:** 1 <br> \n",
    "**Section:** 1 <br>\n",
    "**Topic:** What is Data science <br> \n",
    "**Amount of time:** 1 hour <br> \n",
    "**Author:** Jeff Herman"
   ]
  },
  {
   "cell_type": "markdown",
   "metadata": {},
   "source": [
    "# Teacher Notes"
   ]
  },
  {
   "cell_type": "markdown",
   "metadata": {},
   "source": [
    "## Learning Goals\n",
    "\n",
    "\n",
    "* Explain the classes of problems that data science can be used to solve\n",
    "* Navigate a Jupyter notebook\n",
    "* Activate a conda environment\n",
    "* Show work flow of the class\n",
    "* Students should feel comfortable completing lessons through Learn.co"
   ]
  },
  {
   "cell_type": "markdown",
   "metadata": {},
   "source": [
    "## Learning Outline\n",
    "* Welcome / Introductions (5 minutes) \n",
    "* Problem Introduction and discussion (5 minutes) \n",
    "* Problems Data Science can solve (10 minutes)\n",
    "* Work flow for completing lessons (30 minutes)\n",
    "* Coding Challenge (10 minutes)"
   ]
  },
  {
   "cell_type": "markdown",
   "metadata": {},
   "source": [
    "## Prerequisite Knowledge\n",
    "\n",
    "No required prerequisites. "
   ]
  },
  {
   "cell_type": "markdown",
   "metadata": {},
   "source": [
    "# Welcome future data scientists! (5 minutes)"
   ]
  },
  {
   "cell_type": "markdown",
   "metadata": {},
   "source": [
    "### Teacher Notes\n",
    "- Spend 5-10 minutes welcoming everyone to their first study group and do introductions if you have not already "
   ]
  },
  {
   "cell_type": "markdown",
   "metadata": {},
   "source": [
    "## Problem Scenario (5 minutes)\n",
    "\n",
    "You are part of a team of contractors working ETL at a large train-related private/public partnership company. A VP knows you have a background in data science and comes up to you and says \"I want us to start using predictive analytics\". What do you say?"
   ]
  },
  {
   "cell_type": "markdown",
   "metadata": {},
   "source": [
    "### Teacher Notes\n",
    "\n",
    "Take 3-5 minutes to survey some initial student responses. Try and keep this conversation brief before moving forward."
   ]
  },
  {
   "cell_type": "markdown",
   "metadata": {},
   "source": [
    "## Problems Data Science Can Solve (10 minutes)"
   ]
  },
  {
   "cell_type": "markdown",
   "metadata": {},
   "source": [
    "### Teacher Notes\n",
    "Give the students 5 minutes to look up and think about problems data science can solve.  Then spend 5 minutes having the students share out. "
   ]
  },
  {
   "cell_type": "markdown",
   "metadata": {},
   "source": [
    "## Work flow for completing lessons (30 minutes)"
   ]
  },
  {
   "cell_type": "markdown",
   "metadata": {},
   "source": [
    "### Teacher Notes\n",
    "1. Show how to clone lessons from learn.co.  Start with forking and cloning this [lesson](https://github.com/learn-co-curriculum/dsc-strings-lab).  Explain why forking and cloning is necessary to do.  \n",
    "2. Show how to start a jupyter notebook\n",
    "3. Show how to navigate to the learn-env kernel on Jupyter Notebooks\n",
    "4. Demonstrate how to navigate in a Jupyter Notebook \n",
    "    1. Difference between command and edit mode\n",
    "    2. Common shortcuts \n",
    "    3. How to add cells\n",
    "    4. How to add markdown cells (go very briefly into Markdown)\n",
    "    5. Show how to run a cell \n",
    "5. Demonstrate what to do after you have completed a lab (pushing back up to Github)\n"
   ]
  },
  {
   "cell_type": "markdown",
   "metadata": {},
   "source": [
    "## Coding Challenge\n"
   ]
  },
  {
   "cell_type": "markdown",
   "metadata": {},
   "source": [
    "### Teacher Notes\n",
    "Spend 2 minutes explaining the modulo operator\n",
    "```\n",
    "Example 1:  6%2 evaluates to 0 because there's no remainder if 6 is divided by 2 ( 3 times ).\n",
    "\n",
    "Example 2: 7%2 evaluates to 1 because there's a remainder of 1 when 7 is divided by 2 ( 3 times ).\n",
    "```"
   ]
  },
  {
   "cell_type": "code",
   "execution_count": null,
   "metadata": {},
   "outputs": [],
   "source": [
    "6 % 2"
   ]
  },
  {
   "cell_type": "code",
   "execution_count": null,
   "metadata": {},
   "outputs": [],
   "source": [
    "7 % 2 "
   ]
  },
  {
   "cell_type": "markdown",
   "metadata": {},
   "source": [
    "Break students into groups and have them work on the FizzBuzz Problem\n",
    "```\n",
    "Write a program that prints the numbers from 1 to 20. But for multiples of three print “Fizz” instead of the number and for the multiples of five print “Buzz”. For numbers which are multiples of both three and five print “FizzBuzz”.\n",
    "```"
   ]
  },
  {
   "cell_type": "code",
   "execution_count": null,
   "metadata": {},
   "outputs": [],
   "source": [
    "for num in range(1, 21):\n",
    "    if (num % 3 == 0) & (num % 5 == 0):\n",
    "        print('FizzBuzz')\n",
    "    elif (num % 3 == 0):\n",
    "        print('Fizz')\n",
    "    elif (num % 5 == 0):\n",
    "        print('Buzz')\n",
    "    else:\n",
    "        print(num)"
   ]
  },
  {
   "cell_type": "markdown",
   "metadata": {},
   "source": [
    "Open a poll in Zoom with four possible answers to a PEMDAS problem that you write on a virtual whiteboard or draw in the Jupyter Notebook. (5 minutes)\n",
    "a) 4\n",
    "b) 5\n",
    "c) 6\n",
    "d) 7\n",
    "\n",
    "Order of operation - PEMDAS\n",
    "\t1. Parentheses ( )\n",
    "\t2. Exponent **\n",
    "\t3. Multiplication *\n",
    "\t4. Division / // %\n",
    "\t5. Addition +\n",
    "\t6. Subtraction -"
   ]
  },
  {
   "cell_type": "code",
   "execution_count": null,
   "metadata": {},
   "outputs": [],
   "source": [
    "((((4**0*2)*(1/2))+15/2/1.5)/(1/6))**(1/2)"
   ]
  },
  {
   "cell_type": "code",
   "execution_count": null,
   "metadata": {},
   "outputs": [],
   "source": []
  }
 ],
 "metadata": {
  "kernelspec": {
   "display_name": "Python 3",
   "language": "python",
   "name": "python3"
  },
  "language_info": {
   "codemirror_mode": {
    "name": "ipython",
    "version": 3
   },
   "file_extension": ".py",
   "mimetype": "text/x-python",
   "name": "python",
   "nbconvert_exporter": "python",
   "pygments_lexer": "ipython3",
   "version": "3.7.3"
  }
 },
 "nbformat": 4,
 "nbformat_minor": 2
}
